{
 "cells": [
  {
   "cell_type": "code",
   "execution_count": 1,
   "id": "66a1a18f",
   "metadata": {},
   "outputs": [],
   "source": [
    "# Import the random module.\n",
    "import random"
   ]
  },
  {
   "cell_type": "code",
   "execution_count": 2,
   "id": "24ef7b17",
   "metadata": {},
   "outputs": [
    {
     "data": {
      "text/plain": [
       "0.7546927657843062"
      ]
     },
     "execution_count": 2,
     "metadata": {},
     "output_type": "execute_result"
    }
   ],
   "source": [
    "random.random()\n",
    "#this method will launch a number between 0 and 1"
   ]
  },
  {
   "cell_type": "code",
   "execution_count": 3,
   "id": "869346a0",
   "metadata": {},
   "outputs": [
    {
     "data": {
      "text/plain": [
       "2"
      ]
     },
     "execution_count": 3,
     "metadata": {},
     "output_type": "execute_result"
    }
   ],
   "source": [
    "random.randint(-90,90)\n",
    "#this method will launch an Integer Number between -90 and 90"
   ]
  },
  {
   "cell_type": "code",
   "execution_count": 4,
   "id": "1536c455",
   "metadata": {},
   "outputs": [
    {
     "data": {
      "text/plain": [
       "-9"
      ]
     },
     "execution_count": 4,
     "metadata": {},
     "output_type": "execute_result"
    }
   ],
   "source": [
    "random.randrange(-9,9,2)\n",
    "#this methodwill launch a number between -9 and 9 with intervals of 2"
   ]
  },
  {
   "cell_type": "code",
   "execution_count": 5,
   "id": "88a509f9",
   "metadata": {},
   "outputs": [
    {
     "data": {
      "text/plain": [
       "-8.673353049754507"
      ]
     },
     "execution_count": 5,
     "metadata": {},
     "output_type": "execute_result"
    }
   ],
   "source": [
    "random.uniform(-10,10)\n",
    "#this method will launch a number between -10 and 10 including float (decimals)"
   ]
  },
  {
   "cell_type": "code",
   "execution_count": 49,
   "id": "2ff05b88",
   "metadata": {},
   "outputs": [
    {
     "data": {
      "text/plain": [
       "21.930294220370932"
      ]
     },
     "execution_count": 49,
     "metadata": {},
     "output_type": "execute_result"
    }
   ],
   "source": [
    "random_number = random.randint(-90,89) + random.random()\n",
    "random_number"
   ]
  },
  {
   "cell_type": "markdown",
   "id": "13f82741",
   "metadata": {},
   "source": [
    "_______________________________________________                          \n",
    "Using these two functions, we can write an algorithm that will generate latitudes between –90 and 89. Here is a small sample of what it might take to generate ten random floating-point decimal latitudes between –90 and 89."
   ]
  },
  {
   "cell_type": "code",
   "execution_count": 50,
   "id": "8f633a15",
   "metadata": {},
   "outputs": [],
   "source": [
    "x = 1\n",
    "latitudes = []\n",
    "while x < 11:\n",
    "    random_lat = random.randint(-90, 89) + random.random()\n",
    "    latitudes.append(random_lat)\n",
    "    x += 1"
   ]
  },
  {
   "cell_type": "markdown",
   "id": "ab0bcc7e",
   "metadata": {},
   "source": [
    "___________________________________________________________________                  \n",
    "In the code block above, we:\n",
    "    \n",
    "    Assign the variable x to 1.\n",
    "    \n",
    "    Initialize an empty list, latitudes.\n",
    "    \n",
    "    We create a while loop where we generate a random latitude and add it to the list.\n",
    "    \n",
    "    After the random latitude is added to the list we add one to the variable \"x\".\n",
    "    \n",
    "    The while loop condition is checked again and will continue to run as long as x is  less than 11.\n"
   ]
  },
  {
   "cell_type": "code",
   "execution_count": 51,
   "id": "1b88ef84",
   "metadata": {},
   "outputs": [
    {
     "data": {
      "text/plain": [
       "[7.588837852164667,\n",
       " -41.26610846365809,\n",
       " 7.508751896931813,\n",
       " -8.93556655641188,\n",
       " 0.7821261421895267,\n",
       " -13.571349189566472,\n",
       " -37.93976432368944,\n",
       " 32.38402094966747,\n",
       " -24.017507240788472,\n",
       " 32.34041717063258]"
      ]
     },
     "execution_count": 51,
     "metadata": {},
     "output_type": "execute_result"
    }
   ],
   "source": [
    "latitudes"
   ]
  },
  {
   "cell_type": "code",
   "execution_count": 54,
   "id": "39912e02",
   "metadata": {},
   "outputs": [],
   "source": [
    "y = 1\n",
    "longitudes = []\n",
    "while y < 11:\n",
    "    random_long = random.randint(-180, 180) + random.random()\n",
    "    longitudes.append(random_lat)\n",
    "    y += 1"
   ]
  },
  {
   "cell_type": "code",
   "execution_count": 55,
   "id": "afa584cb",
   "metadata": {},
   "outputs": [
    {
     "data": {
      "text/plain": [
       "[32.34041717063258,\n",
       " 32.34041717063258,\n",
       " 32.34041717063258,\n",
       " 32.34041717063258,\n",
       " 32.34041717063258,\n",
       " 32.34041717063258,\n",
       " 32.34041717063258,\n",
       " 32.34041717063258,\n",
       " 32.34041717063258,\n",
       " 32.34041717063258]"
      ]
     },
     "execution_count": 55,
     "metadata": {},
     "output_type": "execute_result"
    }
   ],
   "source": [
    "longitudes"
   ]
  },
  {
   "cell_type": "code",
   "execution_count": null,
   "id": "93ab9a73",
   "metadata": {},
   "outputs": [],
   "source": []
  },
  {
   "cell_type": "code",
   "execution_count": null,
   "id": "d9d9c7d5",
   "metadata": {},
   "outputs": [],
   "source": []
  },
  {
   "cell_type": "code",
   "execution_count": null,
   "id": "cc552e47",
   "metadata": {},
   "outputs": [],
   "source": []
  },
  {
   "cell_type": "code",
   "execution_count": null,
   "id": "17dd0360",
   "metadata": {},
   "outputs": [],
   "source": []
  },
  {
   "cell_type": "code",
   "execution_count": null,
   "id": "0016ff0b",
   "metadata": {},
   "outputs": [],
   "source": []
  },
  {
   "cell_type": "code",
   "execution_count": null,
   "id": "49461bcd",
   "metadata": {},
   "outputs": [],
   "source": []
  },
  {
   "cell_type": "code",
   "execution_count": null,
   "id": "94132dd8",
   "metadata": {},
   "outputs": [],
   "source": []
  },
  {
   "cell_type": "code",
   "execution_count": null,
   "id": "93f35634",
   "metadata": {},
   "outputs": [],
   "source": []
  },
  {
   "cell_type": "code",
   "execution_count": null,
   "id": "80165cd8",
   "metadata": {},
   "outputs": [],
   "source": []
  },
  {
   "cell_type": "code",
   "execution_count": null,
   "id": "f00913f3",
   "metadata": {},
   "outputs": [],
   "source": []
  },
  {
   "cell_type": "code",
   "execution_count": null,
   "id": "e2c8682e",
   "metadata": {},
   "outputs": [],
   "source": []
  },
  {
   "cell_type": "code",
   "execution_count": null,
   "id": "837a377f",
   "metadata": {},
   "outputs": [],
   "source": []
  },
  {
   "cell_type": "code",
   "execution_count": null,
   "id": "50cd7172",
   "metadata": {},
   "outputs": [],
   "source": []
  },
  {
   "cell_type": "code",
   "execution_count": null,
   "id": "daeb677c",
   "metadata": {},
   "outputs": [],
   "source": []
  },
  {
   "cell_type": "code",
   "execution_count": null,
   "id": "667a24e6",
   "metadata": {},
   "outputs": [],
   "source": []
  },
  {
   "cell_type": "code",
   "execution_count": null,
   "id": "f5e7de95",
   "metadata": {},
   "outputs": [],
   "source": []
  },
  {
   "cell_type": "code",
   "execution_count": null,
   "id": "55c51a96",
   "metadata": {},
   "outputs": [],
   "source": []
  }
 ],
 "metadata": {
  "kernelspec": {
   "display_name": "Python 3 (ipykernel)",
   "language": "python",
   "name": "python3"
  },
  "language_info": {
   "codemirror_mode": {
    "name": "ipython",
    "version": 3
   },
   "file_extension": ".py",
   "mimetype": "text/x-python",
   "name": "python",
   "nbconvert_exporter": "python",
   "pygments_lexer": "ipython3",
   "version": "3.8.8"
  }
 },
 "nbformat": 4,
 "nbformat_minor": 5
}
