{
 "cells": [
  {
   "cell_type": "code",
   "execution_count": 1,
   "id": "66a1a18f",
   "metadata": {},
   "outputs": [],
   "source": [
    "# Import the random module.\n",
    "import random"
   ]
  },
  {
   "cell_type": "code",
   "execution_count": 2,
   "id": "24ef7b17",
   "metadata": {},
   "outputs": [
    {
     "data": {
      "text/plain": [
       "0.36360482864786114"
      ]
     },
     "execution_count": 2,
     "metadata": {},
     "output_type": "execute_result"
    }
   ],
   "source": [
    "random.random()\n",
    "#this method will launch a number between 0 and 1"
   ]
  },
  {
   "cell_type": "code",
   "execution_count": 3,
   "id": "869346a0",
   "metadata": {},
   "outputs": [
    {
     "data": {
      "text/plain": [
       "84"
      ]
     },
     "execution_count": 3,
     "metadata": {},
     "output_type": "execute_result"
    }
   ],
   "source": [
    "random.randint(-90,90)\n",
    "#this method will launch an Integer Number between -90 and 90"
   ]
  },
  {
   "cell_type": "code",
   "execution_count": 4,
   "id": "1536c455",
   "metadata": {},
   "outputs": [
    {
     "data": {
      "text/plain": [
       "-7"
      ]
     },
     "execution_count": 4,
     "metadata": {},
     "output_type": "execute_result"
    }
   ],
   "source": [
    "random.randrange(-9,9,2)\n",
    "#this method will launch a number between -9 and 9 with intervals of 2"
   ]
  },
  {
   "cell_type": "markdown",
   "id": "2f7d49ea",
   "metadata": {},
   "source": [
    "For the randrange() function, there is an option to add a step parameter and set it equal to an integer, which will generate increments of a given integer value, from the lower to the upper limit.\n",
    "If you don't add the step parameter, the output will be a number with an increment of 1, which is the default integer value."
   ]
  },
  {
   "cell_type": "code",
   "execution_count": 5,
   "id": "88a509f9",
   "metadata": {},
   "outputs": [
    {
     "data": {
      "text/plain": [
       "3.913514513366245"
      ]
     },
     "execution_count": 5,
     "metadata": {},
     "output_type": "execute_result"
    }
   ],
   "source": [
    "random.uniform(-10,10)\n",
    "#this method will launch a number between -10 and 10 including float (decimals)"
   ]
  },
  {
   "cell_type": "code",
   "execution_count": 6,
   "id": "2ff05b88",
   "metadata": {},
   "outputs": [
    {
     "data": {
      "text/plain": [
       "-9.75619349288326"
      ]
     },
     "execution_count": 6,
     "metadata": {},
     "output_type": "execute_result"
    }
   ],
   "source": [
    "random_number = random.randint(-90,89) + random.random()\n",
    "random_number"
   ]
  },
  {
   "cell_type": "markdown",
   "id": "9bc939f5",
   "metadata": {},
   "source": [
    "_______________________________________________                          \n",
    "Using these two functions, we can write an algorithm that will generate latitudes between –90 and 89. Here is a small sample of what it might take to generate ten random floating-point decimal latitudes between –90 and 89."
   ]
  },
  {
   "cell_type": "code",
   "execution_count": 7,
   "id": "509c336f",
   "metadata": {},
   "outputs": [],
   "source": [
    "x = 1\n",
    "latitudes = []\n",
    "while x < 11:\n",
    "    random_lat = random.randint(-90, 89) + random.random()\n",
    "    latitudes.append(random_lat)\n",
    "    x += 1"
   ]
  },
  {
   "cell_type": "markdown",
   "id": "6944630b",
   "metadata": {},
   "source": [
    "___________________________________________________________________                  \n",
    "In the code block above, we:\n",
    "    \n",
    "    Assign the variable x to 1.\n",
    "    \n",
    "    Initialize an empty list, latitudes.\n",
    "    \n",
    "    We create a while loop where we generate a random latitude and add it to the list.\n",
    "    \n",
    "    After the random latitude is added to the list we add one to the variable \"x\".\n",
    "    \n",
    "    The while loop condition is checked again and will continue to run as long as x is  less than 11.\n"
   ]
  },
  {
   "cell_type": "code",
   "execution_count": 8,
   "id": "2ef1f927",
   "metadata": {},
   "outputs": [
    {
     "data": {
      "text/plain": [
       "[-24.29028908712233,\n",
       " -78.37614512507886,\n",
       " 23.17089054082545,\n",
       " 21.5989992586133,\n",
       " -60.20271481523551,\n",
       " -35.26309981745073,\n",
       " 19.048433618151122,\n",
       " 25.13991558940236,\n",
       " 26.206661870267833,\n",
       " 56.45548444283498]"
      ]
     },
     "execution_count": 8,
     "metadata": {},
     "output_type": "execute_result"
    }
   ],
   "source": [
    "latitudes"
   ]
  },
  {
   "cell_type": "code",
   "execution_count": 9,
   "id": "d8850e2a",
   "metadata": {},
   "outputs": [],
   "source": [
    "y = 1\n",
    "longitudes = []\n",
    "while y < 11:\n",
    "    random_long = random.randint(-180, 180) + random.random()\n",
    "    longitudes.append(random_long)\n",
    "    y += 1"
   ]
  },
  {
   "cell_type": "code",
   "execution_count": 10,
   "id": "17458037",
   "metadata": {},
   "outputs": [
    {
     "data": {
      "text/plain": [
       "[-54.930432326639,\n",
       " 49.64064393711081,\n",
       " 144.40154264373174,\n",
       " 131.2651853069809,\n",
       " -155.48975371854377,\n",
       " 153.79920827580546,\n",
       " 122.73074443012415,\n",
       " -48.76620922629861,\n",
       " -15.51000068956199,\n",
       " -22.440810096131795]"
      ]
     },
     "execution_count": 10,
     "metadata": {},
     "output_type": "execute_result"
    }
   ],
   "source": [
    "longitudes"
   ]
  },
  {
   "cell_type": "code",
   "execution_count": 11,
   "id": "776207ff",
   "metadata": {},
   "outputs": [
    {
     "data": {
      "text/plain": [
       "-24"
      ]
     },
     "execution_count": 11,
     "metadata": {},
     "output_type": "execute_result"
    }
   ],
   "source": [
    "random.randrange(-90, 90, step=1)"
   ]
  },
  {
   "cell_type": "code",
   "execution_count": 12,
   "id": "d76a7448",
   "metadata": {},
   "outputs": [],
   "source": [
    "# now using method  randrange(0,0, step=1)\n",
    "\n",
    "z = 1\n",
    "lon2 = []\n",
    "while z < 11:\n",
    "    random_lon2 = random.randrange(-180, 180, step=3) + random.random()\n",
    "    lon2.append(random_lon2)\n",
    "    z += 1"
   ]
  },
  {
   "cell_type": "code",
   "execution_count": 13,
   "id": "f4ea22c9",
   "metadata": {},
   "outputs": [
    {
     "data": {
      "text/plain": [
       "[-89.56898493265021,\n",
       " 159.41859161533517,\n",
       " -83.45699362877995,\n",
       " -149.71333714058642,\n",
       " 48.333663669756355,\n",
       " 54.62080462811073,\n",
       " -20.77181805407014,\n",
       " 156.53212832834393,\n",
       " 81.3196030253633,\n",
       " 135.793629901799]"
      ]
     },
     "execution_count": 13,
     "metadata": {},
     "output_type": "execute_result"
    }
   ],
   "source": [
    "lon2"
   ]
  },
  {
   "cell_type": "markdown",
   "id": "bd3c2199",
   "metadata": {},
   "source": [
    "-----------------------------------------------------------\n",
    "\n",
    "----------------------------------------------------"
   ]
  },
  {
   "cell_type": "code",
   "execution_count": 14,
   "id": "97e15123",
   "metadata": {},
   "outputs": [],
   "source": [
    "# Import the NumPy module.\n",
    "import numpy as np"
   ]
  },
  {
   "cell_type": "code",
   "execution_count": 15,
   "id": "28a472d7",
   "metadata": {},
   "outputs": [
    {
     "data": {
      "text/plain": [
       "-86.11065237975046"
      ]
     },
     "execution_count": 15,
     "metadata": {},
     "output_type": "execute_result"
    }
   ],
   "source": [
    "np.random.uniform(-90.000, 90.000)"
   ]
  },
  {
   "cell_type": "code",
   "execution_count": 16,
   "id": "0531d637",
   "metadata": {},
   "outputs": [
    {
     "data": {
      "text/plain": [
       "-11.499371509035512"
      ]
     },
     "execution_count": 16,
     "metadata": {},
     "output_type": "execute_result"
    }
   ],
   "source": [
    "np.random.uniform(low=-90, high=90)"
   ]
  },
  {
   "cell_type": "markdown",
   "id": "c541086d",
   "metadata": {},
   "source": [
    "To generate more records we add size= to the number of coordinates (in this case) to be displayed"
   ]
  },
  {
   "cell_type": "code",
   "execution_count": 17,
   "id": "8bb9882d",
   "metadata": {},
   "outputs": [
    {
     "data": {
      "text/plain": [
       "array([-78.13131093,  -4.00169645,  82.51833279, -43.41975358,\n",
       "        28.77083058,  43.87895294, -72.96725702,  -8.98606792,\n",
       "        66.52270383,   8.43621071,  65.18881289,  17.94590506,\n",
       "        78.42292588, -33.54975798, -82.51746622,  42.12672667,\n",
       "        51.8824213 , -45.35794109, -38.18434566,  64.53067062,\n",
       "       -31.57184546,  56.12891227, -12.07180032, -59.60791048,\n",
       "         2.94997847, -80.07976519, -84.50821025,  65.54215702,\n",
       "       -55.38439541, -55.62014117,  28.68728848, -86.10919979,\n",
       "        62.39234703, -87.18491468, -70.39634605,  -7.10929953,\n",
       "        82.54823162,  57.28365187,  85.1894832 ,  -7.49527912,\n",
       "        57.95698808, -55.69292782, -86.2141838 , -67.75980828,\n",
       "        68.68272608, -87.4334659 ,  -0.24438558,  56.77600786,\n",
       "       -79.7532201 ,  86.0216079 ])"
      ]
     },
     "execution_count": 17,
     "metadata": {},
     "output_type": "execute_result"
    }
   ],
   "source": [
    "np.random.uniform(-90.000, 90.000, size=50)"
   ]
  },
  {
   "cell_type": "markdown",
   "id": "7d5ed806",
   "metadata": {},
   "source": [
    "Now we are getting somewhere–all we need to do is increase the parameter size to 1,500.\n",
    "\n",
    "Is this method faster than creating a while loop like we did before? Let's test this for a size of 1,500.\n",
    "\n",
    "To test how long a piece of code or function takes to run, we can import the \"timeit\" module and use the %timeit magic command when we run our code or call the function.\n",
    "\n",
    "First, import the timeit module in a new cell, and run the cell."
   ]
  },
  {
   "cell_type": "code",
   "execution_count": 18,
   "id": "1220b230",
   "metadata": {},
   "outputs": [],
   "source": [
    "# Import timeit.\n",
    "import timeit"
   ]
  },
  {
   "cell_type": "markdown",
   "id": "c3e24d89",
   "metadata": {},
   "source": [
    "Next, add the %timeit magic command before the np.random.uniform(-90.000, 90.000, size=1500) in a new cell. The cell should look like this:"
   ]
  },
  {
   "cell_type": "code",
   "execution_count": 19,
   "id": "bdecd639",
   "metadata": {},
   "outputs": [
    {
     "name": "stdout",
     "output_type": "stream",
     "text": [
      "18.9 µs ± 176 ns per loop (mean ± std. dev. of 7 runs, 100000 loops each)\n"
     ]
    }
   ],
   "source": [
    "%timeit np.random.uniform(-90.000, 90.000, size=1500)"
   ]
  },
  {
   "cell_type": "code",
   "execution_count": 20,
   "id": "e8addff8",
   "metadata": {},
   "outputs": [
    {
     "name": "stdout",
     "output_type": "stream",
     "text": [
      "1.76 ms ± 12.9 µs per loop (mean ± std. dev. of 7 runs, 1000 loops each)\n"
     ]
    }
   ],
   "source": [
    "def latitudes(size):\n",
    "    latitudes = []\n",
    "    x = 0\n",
    "    while x < (size):\n",
    "        random_lat = random.randint(-90, 90) + random.random()\n",
    "        latitudes.append(random_lat)\n",
    "        x += 1\n",
    "    return latitudes\n",
    "# Call the function with 1500.\n",
    "%timeit latitudes(1500)"
   ]
  },
  {
   "cell_type": "markdown",
   "id": "48210964",
   "metadata": {},
   "source": [
    "------------------------------------------\n",
    "\n",
    "------------------------------------\n",
    "\n",
    "Create Latitude and Longitude Combinations\n",
    "------------------------------------"
   ]
  },
  {
   "cell_type": "code",
   "execution_count": null,
   "id": "e19308e4",
   "metadata": {},
   "outputs": [],
   "source": []
  },
  {
   "cell_type": "code",
   "execution_count": null,
   "id": "71d9c229",
   "metadata": {},
   "outputs": [],
   "source": []
  },
  {
   "cell_type": "code",
   "execution_count": null,
   "id": "70b25d6b",
   "metadata": {},
   "outputs": [],
   "source": []
  },
  {
   "cell_type": "code",
   "execution_count": null,
   "id": "e2b7f15b",
   "metadata": {},
   "outputs": [],
   "source": []
  },
  {
   "cell_type": "code",
   "execution_count": null,
   "id": "865750b5",
   "metadata": {},
   "outputs": [],
   "source": []
  },
  {
   "cell_type": "code",
   "execution_count": null,
   "id": "137f9806",
   "metadata": {},
   "outputs": [],
   "source": []
  },
  {
   "cell_type": "code",
   "execution_count": null,
   "id": "6d641384",
   "metadata": {},
   "outputs": [],
   "source": []
  },
  {
   "cell_type": "code",
   "execution_count": null,
   "id": "2b629f41",
   "metadata": {},
   "outputs": [],
   "source": []
  },
  {
   "cell_type": "code",
   "execution_count": null,
   "id": "e981890b",
   "metadata": {},
   "outputs": [],
   "source": []
  },
  {
   "cell_type": "code",
   "execution_count": null,
   "id": "26b5e865",
   "metadata": {},
   "outputs": [],
   "source": []
  },
  {
   "cell_type": "code",
   "execution_count": null,
   "id": "df3b89e5",
   "metadata": {},
   "outputs": [],
   "source": []
  },
  {
   "cell_type": "code",
   "execution_count": null,
   "id": "e1eabf04",
   "metadata": {},
   "outputs": [],
   "source": []
  },
  {
   "cell_type": "code",
   "execution_count": null,
   "id": "e581972d",
   "metadata": {},
   "outputs": [],
   "source": []
  },
  {
   "cell_type": "code",
   "execution_count": null,
   "id": "aebfc5d8",
   "metadata": {},
   "outputs": [],
   "source": []
  },
  {
   "cell_type": "code",
   "execution_count": null,
   "id": "bb779072",
   "metadata": {},
   "outputs": [],
   "source": []
  },
  {
   "cell_type": "code",
   "execution_count": null,
   "id": "07abf8a7",
   "metadata": {},
   "outputs": [],
   "source": []
  },
  {
   "cell_type": "code",
   "execution_count": null,
   "id": "1ea6cea4",
   "metadata": {},
   "outputs": [],
   "source": []
  },
  {
   "cell_type": "code",
   "execution_count": null,
   "id": "5364bc23",
   "metadata": {},
   "outputs": [],
   "source": []
  },
  {
   "cell_type": "code",
   "execution_count": null,
   "id": "fd5c748a",
   "metadata": {},
   "outputs": [],
   "source": []
  },
  {
   "cell_type": "code",
   "execution_count": null,
   "id": "6f8e9f78",
   "metadata": {},
   "outputs": [],
   "source": []
  },
  {
   "cell_type": "code",
   "execution_count": null,
   "id": "9734bbb5",
   "metadata": {},
   "outputs": [],
   "source": []
  },
  {
   "cell_type": "code",
   "execution_count": null,
   "id": "0bd49f37",
   "metadata": {},
   "outputs": [],
   "source": []
  },
  {
   "cell_type": "code",
   "execution_count": null,
   "id": "d7b4e265",
   "metadata": {},
   "outputs": [],
   "source": []
  },
  {
   "cell_type": "code",
   "execution_count": null,
   "id": "bcc3de39",
   "metadata": {},
   "outputs": [],
   "source": []
  },
  {
   "cell_type": "code",
   "execution_count": null,
   "id": "912508ac",
   "metadata": {},
   "outputs": [],
   "source": []
  },
  {
   "cell_type": "code",
   "execution_count": null,
   "id": "a3ea525a",
   "metadata": {},
   "outputs": [],
   "source": []
  },
  {
   "cell_type": "code",
   "execution_count": null,
   "id": "e84daa03",
   "metadata": {},
   "outputs": [],
   "source": []
  },
  {
   "cell_type": "code",
   "execution_count": null,
   "id": "4e762c52",
   "metadata": {},
   "outputs": [],
   "source": []
  },
  {
   "cell_type": "code",
   "execution_count": null,
   "id": "65b850c6",
   "metadata": {},
   "outputs": [],
   "source": []
  },
  {
   "cell_type": "code",
   "execution_count": null,
   "id": "9d7e85e4",
   "metadata": {},
   "outputs": [],
   "source": []
  },
  {
   "cell_type": "code",
   "execution_count": null,
   "id": "77dcc999",
   "metadata": {},
   "outputs": [],
   "source": []
  },
  {
   "cell_type": "code",
   "execution_count": null,
   "id": "be1587d3",
   "metadata": {},
   "outputs": [],
   "source": []
  },
  {
   "cell_type": "code",
   "execution_count": null,
   "id": "93a0c0d0",
   "metadata": {},
   "outputs": [],
   "source": []
  }
 ],
 "metadata": {
  "kernelspec": {
   "display_name": "Python 3 (ipykernel)",
   "language": "python",
   "name": "python3"
  },
  "language_info": {
   "codemirror_mode": {
    "name": "ipython",
    "version": 3
   },
   "file_extension": ".py",
   "mimetype": "text/x-python",
   "name": "python",
   "nbconvert_exporter": "python",
   "pygments_lexer": "ipython3",
   "version": "3.8.8"
  }
 },
 "nbformat": 4,
 "nbformat_minor": 5
}
